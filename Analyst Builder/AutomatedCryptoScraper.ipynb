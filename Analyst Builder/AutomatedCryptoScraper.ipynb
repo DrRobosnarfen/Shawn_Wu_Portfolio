{
 "cells": [
  {
   "cell_type": "code",
   "execution_count": 1,
   "id": "5b540932-9b04-47ad-8cdf-0d7fa5292754",
   "metadata": {},
   "outputs": [
    {
     "name": "stdout",
     "output_type": "stream",
     "text": [
      "HDADJ\n",
      "                 Price                  Timestamp\n",
      "Crypto Name                                      \n",
      "Bitcoin      89,208.92 2025-03-06 15:40:03.813255\n",
      "                 Price                  Timestamp\n",
      "Crypto Name                                      \n",
      "Bitcoin      89,208.92 2025-03-06 15:40:14.008450\n",
      "                 Price                  Timestamp\n",
      "Crypto Name                                      \n",
      "Bitcoin      89,208.92 2025-03-06 15:40:24.124543\n",
      "                 Price                  Timestamp\n",
      "Crypto Name                                      \n",
      "Bitcoin      89,208.92 2025-03-06 15:40:34.263441\n",
      "                 Price                  Timestamp\n",
      "Crypto Name                                      \n",
      "Bitcoin      89,208.92 2025-03-06 15:40:44.389637\n",
      "                 Price                  Timestamp\n",
      "Crypto Name                                      \n",
      "Bitcoin      89,163.40 2025-03-06 15:40:54.508070\n",
      "                 Price                  Timestamp\n",
      "Crypto Name                                      \n",
      "Bitcoin      89,163.40 2025-03-06 15:41:04.618219\n"
     ]
    },
    {
     "ename": "KeyboardInterrupt",
     "evalue": "",
     "output_type": "error",
     "traceback": [
      "\u001b[1;31m---------------------------------------------------------------------------\u001b[0m",
      "\u001b[1;31mKeyboardInterrupt\u001b[0m                         Traceback (most recent call last)",
      "Cell \u001b[1;32mIn[1], line 30\u001b[0m\n\u001b[0;32m     28\u001b[0m \u001b[38;5;28;01mwhile\u001b[39;00m \u001b[38;5;28;01mTrue\u001b[39;00m:\n\u001b[0;32m     29\u001b[0m     auto_cmc_pull()\n\u001b[1;32m---> 30\u001b[0m     time\u001b[38;5;241m.\u001b[39msleep(\u001b[38;5;241m10\u001b[39m)\n",
      "\u001b[1;31mKeyboardInterrupt\u001b[0m: "
     ]
    }
   ],
   "source": [
    "from datetime import datetime\n",
    "from bs4 import BeautifulSoup\n",
    "import pandas as pd\n",
    "import requests, os, time\n",
    "\n",
    "def auto_cmc_pull():\n",
    "    url = 'https://coinmarketcap.com/currencies/bitcoin/'\n",
    "    \n",
    "    page = requests.get(url)\n",
    "    \n",
    "    soup = BeautifulSoup(page.text, 'html')\n",
    "    \n",
    "    btc_price = soup.find('span', class_ = 'sc-65e7f566-0 WXGwg base-text').text[1::]\n",
    "    coin_name = soup.find('span', class_ = 'sc-65e7f566-0 lsTl').text[0:7]\n",
    "    dt = datetime.now()\n",
    "    \n",
    "    dict = {'Crypto Name': coin_name, 'Price': btc_price, 'Timestamp': dt}\n",
    "    \n",
    "    df = pd.DataFrame([dict]).set_index(['Crypto Name'])\n",
    "    \n",
    "    if os.path.exists(r'E:\\AnalystBuilderTestFolder\\CryptoScraper.csv'):\n",
    "        df.to_csv(r'E:\\AnalystBuilderTestFolder\\CryptoScraper.csv', mode = 'a', header = False)\n",
    "    else:\n",
    "        df.to_csv(r'E:\\AnalystBuilderTestFolder\\CryptoScraper.csv')\n",
    "    print(df)\n",
    "\n",
    "while True:\n",
    "    auto_cmc_pull()\n",
    "    time.sleep(60)"
   ]
  },
  {
   "cell_type": "code",
   "execution_count": null,
   "id": "02daa129-eab0-401d-a6e4-a5336f603934",
   "metadata": {},
   "outputs": [],
   "source": []
  }
 ],
 "metadata": {
  "kernelspec": {
   "display_name": "Python [conda env:base] *",
   "language": "python",
   "name": "conda-base-py"
  },
  "language_info": {
   "codemirror_mode": {
    "name": "ipython",
    "version": 3
   },
   "file_extension": ".py",
   "mimetype": "text/x-python",
   "name": "python",
   "nbconvert_exporter": "python",
   "pygments_lexer": "ipython3",
   "version": "3.12.7"
  }
 },
 "nbformat": 4,
 "nbformat_minor": 5
}
