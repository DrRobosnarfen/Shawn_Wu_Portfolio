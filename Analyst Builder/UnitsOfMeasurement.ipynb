{
 "cells": [
  {
   "cell_type": "markdown",
   "id": "66e08821-b014-4102-b3e7-d36d3b7c569b",
   "metadata": {},
   "source": [
    "## Unit of Measurement Converter"
   ]
  },
  {
   "cell_type": "markdown",
   "id": "a604a21b-4876-4e99-8212-0c83a251258a",
   "metadata": {},
   "source": [
    "#### Project 1 of Python Fundamentals course from analystbuilder.com\n",
    "Exception handling in Python was not yet covered."
   ]
  },
  {
   "cell_type": "code",
   "execution_count": 190,
   "id": "bac435c1-6e2e-4186-975b-6ca7bc586657",
   "metadata": {},
   "outputs": [
    {
     "name": "stdin",
     "output_type": "stream",
     "text": [
      "Enter starting unit of measurement ['inches', 'feet', 'yards']:  ft\n",
      "Enter unit of measurement to convert to ['inches', 'yards']:  is\n",
      "Enter starting measurement in [please enter a valid unit]:  1\n"
     ]
    },
    {
     "name": "stdout",
     "output_type": "stream",
     "text": [
      "Please enter either Inches, Feet, or Yards\n"
     ]
    }
   ],
   "source": [
    "unitsList = [\"inches\", \"feet\", \"yards\"]\n",
    "inchList, feetList, yardList = [\"inches\", \"inch\", \"in\"], [\"feet\", \"foot\", \"ft\"], [\"yards\", \"yard\", \"yd\"]\n",
    "\n",
    "#Get initial unit of measurement and remove from valid conversions\n",
    "convertFrom = input(\"Enter starting unit of measurement \" + str(unitsList) + \": \").lower()\n",
    "[unitsList.remove(lists[0]) for lists in [inchList, feetList, yardList] if convertFrom in lists]\n",
    "        \n",
    "#Get resulting unit of measurement and get related unit string\n",
    "convertTo = input(\"Enter unit of measurement to convert to \" + str(unitsList) + \": \").lower()\n",
    "unitInput = \"[please enter a valid unit]\"\n",
    "for lists in [inchList, feetList, yardList]:\n",
    "    if convertTo in lists:\n",
    "        unitInput = lists[0]\n",
    "        \n",
    "unitInput = input(\"Enter starting measurement in \" + unitInput + \": \")\n",
    "result = \"Result: \"\n",
    "\n",
    "if convertTo not in inchList + feetList + yardList:\n",
    "    result = \"error1\"\n",
    "elif not unitInput.isdigit():\n",
    "    result = \"error2\"\n",
    "elif convertFrom in inchList:\n",
    "    result += unitInput + \" Inches = \"\n",
    "    unitInput = int(unitInput)\n",
    "    if convertTo in feetList:\n",
    "        result += str(round(unitInput / 12, 2)) + \" Feet\"\n",
    "    elif convertTo in yardList:\n",
    "        result += str(round(unitInput / 36, 2)) + \" Yards\"\n",
    "    else:\n",
    "        result = \"error3\"\n",
    "elif convertFrom in feetList:\n",
    "    result += unitInput + \" Feet = \"\n",
    "    unitInput = int(unitInput)\n",
    "    if convertTo in inchList:\n",
    "        result += str(unitInput * 12) + \" Inches\"\n",
    "    elif convertTo in yardList:\n",
    "        result += str(round(unitInput / 3, 2)) + \" Yards\"\n",
    "    else:\n",
    "        result = \"error3\"\n",
    "elif convertFrom in yardList:\n",
    "    result += unitInput + \" Yards = \"\n",
    "    unitInput = int(unitInput)\n",
    "    if convertTo in inchList:\n",
    "        result += str(unitInput * 36) + \" Inches\"\n",
    "    elif convertTo in feetList:\n",
    "        result += str(unitInput * 3) + \" Feet\"\n",
    "    else:\n",
    "        result = \"error3\"\n",
    "else:\n",
    "    result = \"error1\"\n",
    "\n",
    "if \"error\" not in result:\n",
    "    print(result)\n",
    "elif result == \"error1\":\n",
    "    print(\"Please enter either Inches, Feet, or Yards\")\n",
    "elif result == \"error2\":\n",
    "    print(\"Please give a whole number measurement, floats/decimals are not accepted\")\n",
    "elif result == \"error3\":\n",
    "    print(\"Please input two different units of measurement\")"
   ]
  },
  {
   "cell_type": "code",
   "execution_count": null,
   "id": "5ea6024c-c453-4561-bbd9-7202143062fa",
   "metadata": {},
   "outputs": [],
   "source": []
  }
 ],
 "metadata": {
  "kernelspec": {
   "display_name": "Python [conda env:base] *",
   "language": "python",
   "name": "conda-base-py"
  },
  "language_info": {
   "codemirror_mode": {
    "name": "ipython",
    "version": 3
   },
   "file_extension": ".py",
   "mimetype": "text/x-python",
   "name": "python",
   "nbconvert_exporter": "python",
   "pygments_lexer": "ipython3",
   "version": "3.12.7"
  }
 },
 "nbformat": 4,
 "nbformat_minor": 5
}
