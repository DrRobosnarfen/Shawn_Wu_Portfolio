{
 "cells": [
  {
   "cell_type": "code",
   "execution_count": 63,
   "id": "6c130b6c-bdc4-494d-a22f-7fd7d80481df",
   "metadata": {},
   "outputs": [],
   "source": [
    "from bs4 import BeautifulSoup\n",
    "import pandas as pd\n",
    "import requests, re\n",
    "\n",
    "url = 'http://analytictech.com/mb021/mlk.htm'\n",
    "    \n",
    "page = requests.get(url)\n",
    "    \n",
    "soup = BeautifulSoup(page.text, 'html')\n",
    "\n",
    "fullSpeech = [p.text for p in soup.find_all('p')]\n",
    "fullSpeech = ' '.join(fullSpeech).replace('\\r\\n', ' ')\n",
    "\n",
    "punctlessSpeech = re.sub(r'[^\\w\\s]', '', fullSpeech).lower()\n",
    "brokenSpeech = re.split(r'\\s+', punctlessSpeech)\n",
    "df = pd.DataFrame(brokenSpeech).value_counts()\n",
    "\n",
    "df.to_csv(r'E:\\AnalystBuilderTestFolder\\MLKJ_Speech.csv', header = ['Counts'], index_label = ['Word'])"
   ]
  },
  {
   "cell_type": "code",
   "execution_count": null,
   "id": "9fc21f86-03e1-4b96-901d-7e4eab674abd",
   "metadata": {},
   "outputs": [],
   "source": []
  }
 ],
 "metadata": {
  "kernelspec": {
   "display_name": "Python [conda env:base] *",
   "language": "python",
   "name": "conda-base-py"
  },
  "language_info": {
   "codemirror_mode": {
    "name": "ipython",
    "version": 3
   },
   "file_extension": ".py",
   "mimetype": "text/x-python",
   "name": "python",
   "nbconvert_exporter": "python",
   "pygments_lexer": "ipython3",
   "version": "3.12.7"
  }
 },
 "nbformat": 4,
 "nbformat_minor": 5
}
