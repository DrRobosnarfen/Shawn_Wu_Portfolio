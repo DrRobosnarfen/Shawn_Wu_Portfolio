{
 "cells": [
  {
   "cell_type": "code",
   "execution_count": 17,
   "id": "fdff9cbe-9f28-4aff-b43b-0bd1b6949ccb",
   "metadata": {},
   "outputs": [],
   "source": [
    "from bs4 import BeautifulSoup\n",
    "import requests\n",
    "\n",
    "url = 'https://www.worldometers.info/world-population/population-by-country/'\n",
    "\n",
    "page = requests.get(url)\n",
    "\n",
    "soup = BeautifulSoup(page.text, 'html')"
   ]
  },
  {
   "cell_type": "code",
   "execution_count": 29,
   "id": "6ffc3f1c-2133-4488-a51b-d1adaace22f7",
   "metadata": {},
   "outputs": [],
   "source": [
    "table = soup.find(\"table\")"
   ]
  },
  {
   "cell_type": "code",
   "execution_count": 39,
   "id": "15d34bec-ed12-4342-8131-de9eb7e4bf9d",
   "metadata": {},
   "outputs": [
    {
     "name": "stdout",
     "output_type": "stream",
     "text": [
      "['#', 'Country (or dependency)', 'Population (2024)', 'Yearly Change', 'Net Change', 'Density (P/Km²)', 'Land Area (Km²)', 'Migrants (net)', 'Fert. Rate', 'Med. Age', 'Urban Pop %', 'World Share']\n"
     ]
    }
   ],
   "source": [
    "table_col = table.find_all(\"th\")\n",
    "table_row = table.find_all(\"tr\")\n",
    "world_col_name = [col.text for col in table_col]\n",
    "\n",
    "print(world_col_name)"
   ]
  },
  {
   "cell_type": "code",
   "execution_count": 41,
   "id": "6b562b6e-1fe7-4d05-83e2-21ab9fe97780",
   "metadata": {},
   "outputs": [
    {
     "data": {
      "text/html": [
       "<div>\n",
       "<style scoped>\n",
       "    .dataframe tbody tr th:only-of-type {\n",
       "        vertical-align: middle;\n",
       "    }\n",
       "\n",
       "    .dataframe tbody tr th {\n",
       "        vertical-align: top;\n",
       "    }\n",
       "\n",
       "    .dataframe thead th {\n",
       "        text-align: right;\n",
       "    }\n",
       "</style>\n",
       "<table border=\"1\" class=\"dataframe\">\n",
       "  <thead>\n",
       "    <tr style=\"text-align: right;\">\n",
       "      <th></th>\n",
       "      <th>#</th>\n",
       "      <th>Country (or dependency)</th>\n",
       "      <th>Population (2024)</th>\n",
       "      <th>Yearly Change</th>\n",
       "      <th>Net Change</th>\n",
       "      <th>Density (P/Km²)</th>\n",
       "      <th>Land Area (Km²)</th>\n",
       "      <th>Migrants (net)</th>\n",
       "      <th>Fert. Rate</th>\n",
       "      <th>Med. Age</th>\n",
       "      <th>Urban Pop %</th>\n",
       "      <th>World Share</th>\n",
       "    </tr>\n",
       "  </thead>\n",
       "  <tbody>\n",
       "  </tbody>\n",
       "</table>\n",
       "</div>"
      ],
      "text/plain": [
       "Empty DataFrame\n",
       "Columns: [#, Country (or dependency), Population (2024), Yearly Change, Net Change, Density (P/Km²), Land Area (Km²), Migrants (net), Fert. Rate, Med. Age, Urban Pop %, World Share]\n",
       "Index: []"
      ]
     },
     "execution_count": 41,
     "metadata": {},
     "output_type": "execute_result"
    }
   ],
   "source": [
    "import pandas as pd\n",
    "df = pd.DataFrame(columns = world_col_name)"
   ]
  },
  {
   "cell_type": "code",
   "execution_count": 53,
   "id": "cea89ffd-0610-4d33-be22-5d2eaf76c672",
   "metadata": {},
   "outputs": [],
   "source": [
    "for row in table_row[1:]:\n",
    "    row_data = row.find_all('td')\n",
    "    table_data = [data.text for data in row_data]\n",
    "    length = len(df)\n",
    "    df.loc[length] = table_data\n",
    "\n",
    "df.to_csv(r'E:\\AnalystBuilderTestFolder\\World_Population_Scraped.csv')"
   ]
  },
  {
   "cell_type": "code",
   "execution_count": null,
   "id": "bec268c2-1c0b-4633-a7f4-df1094c45961",
   "metadata": {},
   "outputs": [],
   "source": []
  }
 ],
 "metadata": {
  "kernelspec": {
   "display_name": "Python [conda env:base] *",
   "language": "python",
   "name": "conda-base-py"
  },
  "language_info": {
   "codemirror_mode": {
    "name": "ipython",
    "version": 3
   },
   "file_extension": ".py",
   "mimetype": "text/x-python",
   "name": "python",
   "nbconvert_exporter": "python",
   "pygments_lexer": "ipython3",
   "version": "3.12.7"
  }
 },
 "nbformat": 4,
 "nbformat_minor": 5
}
