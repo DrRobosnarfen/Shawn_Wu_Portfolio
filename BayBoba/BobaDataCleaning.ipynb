{
 "cells": [
  {
   "cell_type": "markdown",
   "id": "d2b1a289-b8d3-4025-bac2-5e7b154e5617",
   "metadata": {},
   "source": [
    "### I wanted to build some Tableau visualizations with this publically available dataset from Kaggle: \n",
    "https://www.kaggle.com/datasets/vnxiclaire/bobabayarea/data\n",
    "\n",
    "### The above is a 2018 sample of bubble tea, or boba, shops in the Bay Area, collected via the Yelp API.\n",
    "### Addtionally, there is a 2024 dataset contributed by a different user, but following the same basic methodology:\n",
    "https://www.kaggle.com/datasets/willatran/boba-shops-in-the-bay-area-2024/data"
   ]
  },
  {
   "cell_type": "code",
   "execution_count": 841,
   "id": "5b46364f-4863-4dd4-8fcb-75eacfa7b4a6",
   "metadata": {},
   "outputs": [],
   "source": [
    "import pandas as pd\n",
    "import os\n",
    "\n",
    "boba = pd.read_csv(r'E:\\AnalystBuilderTestFolder\\BayBoba\\bayarea_boba_spots_2018.csv')\n",
    "pd.set_option('display.max_rows', None)\n",
    "#I checked Nulls and Datatypes with info(), but commenting it out to reduce bloat. No action needed.\n",
    "#boba.info()"
   ]
  },
  {
   "cell_type": "code",
   "execution_count": 843,
   "id": "53516256-118c-4534-9694-c29134c93dc9",
   "metadata": {},
   "outputs": [
    {
     "data": {
      "text/html": [
       "<div>\n",
       "<style scoped>\n",
       "    .dataframe tbody tr th:only-of-type {\n",
       "        vertical-align: middle;\n",
       "    }\n",
       "\n",
       "    .dataframe tbody tr th {\n",
       "        vertical-align: top;\n",
       "    }\n",
       "\n",
       "    .dataframe thead th {\n",
       "        text-align: right;\n",
       "    }\n",
       "</style>\n",
       "<table border=\"1\" class=\"dataframe\">\n",
       "  <thead>\n",
       "    <tr style=\"text-align: right;\">\n",
       "      <th></th>\n",
       "      <th>Unnamed: 0</th>\n",
       "      <th>id</th>\n",
       "      <th>name</th>\n",
       "      <th>rating</th>\n",
       "      <th>address</th>\n",
       "      <th>city</th>\n",
       "      <th>lat</th>\n",
       "      <th>long</th>\n",
       "    </tr>\n",
       "  </thead>\n",
       "  <tbody>\n",
       "    <tr>\n",
       "      <th>0</th>\n",
       "      <td>0</td>\n",
       "      <td>99-tea-house-fremont-2</td>\n",
       "      <td>99% Tea House</td>\n",
       "      <td>4.5</td>\n",
       "      <td>3623 Thornton Ave</td>\n",
       "      <td>Fremont</td>\n",
       "      <td>37.562950</td>\n",
       "      <td>-122.010040</td>\n",
       "    </tr>\n",
       "    <tr>\n",
       "      <th>1</th>\n",
       "      <td>1</td>\n",
       "      <td>one-tea-fremont-2</td>\n",
       "      <td>One Tea</td>\n",
       "      <td>4.5</td>\n",
       "      <td>46809 Warm Springs Blvd</td>\n",
       "      <td>Fremont</td>\n",
       "      <td>37.489067</td>\n",
       "      <td>-121.929414</td>\n",
       "    </tr>\n",
       "  </tbody>\n",
       "</table>\n",
       "</div>"
      ],
      "text/plain": [
       "   Unnamed: 0                      id           name  rating  \\\n",
       "0           0  99-tea-house-fremont-2  99% Tea House     4.5   \n",
       "1           1       one-tea-fremont-2        One Tea     4.5   \n",
       "\n",
       "                   address     city        lat        long  \n",
       "0        3623 Thornton Ave  Fremont  37.562950 -122.010040  \n",
       "1  46809 Warm Springs Blvd  Fremont  37.489067 -121.929414  "
      ]
     },
     "execution_count": 843,
     "metadata": {},
     "output_type": "execute_result"
    }
   ],
   "source": [
    "#To illustrate the column structure in the raw input.\n",
    "boba.head(2)"
   ]
  },
  {
   "cell_type": "code",
   "execution_count": 845,
   "id": "848edb61-86c4-4a5a-bb6e-b659281f2cfd",
   "metadata": {},
   "outputs": [],
   "source": [
    "#The first column of the dataset, 'Unnamed: 0', is just an index. (and redundant)\n",
    "#the second column is Yelp's ID for the location, which is also unnecessary.\n",
    "boba = boba.drop(boba.columns[[0, 1]], axis=1)"
   ]
  },
  {
   "cell_type": "markdown",
   "id": "3382a869-71fc-49e1-931d-0d613b91396f",
   "metadata": {},
   "source": [
    "### The data cleaning is needed in the 'name' column. I'm interested in the stores differentiated by brand. Unfortunately, the name data is dirty for a variety of reasons:"
   ]
  },
  {
   "cell_type": "markdown",
   "id": "5247a02a-7616-4847-86de-a042c278350c",
   "metadata": {},
   "source": [
    "### Reason 1: Appending a location. In this dataset, this most commonly occurs with: '[Name] - [Location]'\n",
    "### Such as:"
   ]
  },
  {
   "cell_type": "code",
   "execution_count": 849,
   "id": "9352bedc-170e-4b01-83b4-b1f5606eee98",
   "metadata": {},
   "outputs": [
    {
     "data": {
      "text/html": [
       "<div>\n",
       "<style scoped>\n",
       "    .dataframe tbody tr th:only-of-type {\n",
       "        vertical-align: middle;\n",
       "    }\n",
       "\n",
       "    .dataframe tbody tr th {\n",
       "        vertical-align: top;\n",
       "    }\n",
       "\n",
       "    .dataframe thead th {\n",
       "        text-align: right;\n",
       "    }\n",
       "</style>\n",
       "<table border=\"1\" class=\"dataframe\">\n",
       "  <thead>\n",
       "    <tr style=\"text-align: right;\">\n",
       "      <th></th>\n",
       "      <th>name</th>\n",
       "      <th>rating</th>\n",
       "      <th>address</th>\n",
       "      <th>city</th>\n",
       "      <th>lat</th>\n",
       "      <th>long</th>\n",
       "    </tr>\n",
       "  </thead>\n",
       "  <tbody>\n",
       "    <tr>\n",
       "      <th>369</th>\n",
       "      <td>Coupa Cafe - Green Library</td>\n",
       "      <td>3.5</td>\n",
       "      <td>571 Escondido Mall</td>\n",
       "      <td>Stanford</td>\n",
       "      <td>37.426249</td>\n",
       "      <td>-122.167068</td>\n",
       "    </tr>\n",
       "    <tr>\n",
       "      <th>360</th>\n",
       "      <td>Coupa Café - Lytton</td>\n",
       "      <td>3.5</td>\n",
       "      <td>111 Lytton Ave</td>\n",
       "      <td>Palo Alto</td>\n",
       "      <td>37.444472</td>\n",
       "      <td>-122.165222</td>\n",
       "    </tr>\n",
       "  </tbody>\n",
       "</table>\n",
       "</div>"
      ],
      "text/plain": [
       "                           name  rating             address       city  \\\n",
       "369  Coupa Cafe - Green Library     3.5  571 Escondido Mall   Stanford   \n",
       "360         Coupa Café - Lytton     3.5      111 Lytton Ave  Palo Alto   \n",
       "\n",
       "           lat        long  \n",
       "369  37.426249 -122.167068  \n",
       "360  37.444472 -122.165222  "
      ]
     },
     "execution_count": 849,
     "metadata": {},
     "output_type": "execute_result"
    }
   ],
   "source": [
    "boba = boba.sort_values(by=['name'])\n",
    "boba[boba['name'].str.contains('- ')].head(2)"
   ]
  },
  {
   "cell_type": "markdown",
   "id": "625eaceb-6d80-43d2-b738-66497cdd1484",
   "metadata": {},
   "source": [
    "### However, there's exceptions to this as well, where this specific shop uses a hyphen to append the English name to the Vietnamese name."
   ]
  },
  {
   "cell_type": "code",
   "execution_count": 852,
   "id": "a1636c80-aff4-4912-af79-dc09bfe1cdca",
   "metadata": {},
   "outputs": [
    {
     "data": {
      "text/html": [
       "<div>\n",
       "<style scoped>\n",
       "    .dataframe tbody tr th:only-of-type {\n",
       "        vertical-align: middle;\n",
       "    }\n",
       "\n",
       "    .dataframe tbody tr th {\n",
       "        vertical-align: top;\n",
       "    }\n",
       "\n",
       "    .dataframe thead th {\n",
       "        text-align: right;\n",
       "    }\n",
       "</style>\n",
       "<table border=\"1\" class=\"dataframe\">\n",
       "  <thead>\n",
       "    <tr style=\"text-align: right;\">\n",
       "      <th></th>\n",
       "      <th>name</th>\n",
       "      <th>rating</th>\n",
       "      <th>address</th>\n",
       "      <th>city</th>\n",
       "      <th>lat</th>\n",
       "      <th>long</th>\n",
       "    </tr>\n",
       "  </thead>\n",
       "  <tbody>\n",
       "    <tr>\n",
       "      <th>498</th>\n",
       "      <td>Pho Huynh Hiep 5 - Kevin's Noodle House</td>\n",
       "      <td>3.5</td>\n",
       "      <td>1833 Willow Pass Rd</td>\n",
       "      <td>Concord</td>\n",
       "      <td>37.975140</td>\n",
       "      <td>-122.039010</td>\n",
       "    </tr>\n",
       "    <tr>\n",
       "      <th>500</th>\n",
       "      <td>Pho Huynh Hiep 6 - Kevin's Noodle House</td>\n",
       "      <td>4.0</td>\n",
       "      <td>2034 N Main St</td>\n",
       "      <td>Walnut Creek</td>\n",
       "      <td>37.907986</td>\n",
       "      <td>-122.064301</td>\n",
       "    </tr>\n",
       "  </tbody>\n",
       "</table>\n",
       "</div>"
      ],
      "text/plain": [
       "                                        name  rating              address  \\\n",
       "498  Pho Huynh Hiep 5 - Kevin's Noodle House     3.5  1833 Willow Pass Rd   \n",
       "500  Pho Huynh Hiep 6 - Kevin's Noodle House     4.0       2034 N Main St   \n",
       "\n",
       "             city        lat        long  \n",
       "498       Concord  37.975140 -122.039010  \n",
       "500  Walnut Creek  37.907986 -122.064301  "
      ]
     },
     "execution_count": 852,
     "metadata": {},
     "output_type": "execute_result"
    }
   ],
   "source": [
    "boba[boba['name'].str.contains('- ')].iloc[2:4]"
   ]
  },
  {
   "cell_type": "code",
   "execution_count": 854,
   "id": "18c26fad-7e9f-4768-b365-d36fe5f1e1ff",
   "metadata": {},
   "outputs": [],
   "source": [
    "boba.loc[boba['name'].str.contains('Huynh Hiep'), 'name'] = 'Pho Huynh Hiep'\n",
    "boba['name'] = boba['name'].str.split(pat=' - ', n=1, expand=True)[0]"
   ]
  },
  {
   "cell_type": "markdown",
   "id": "b0dd7148-8a67-4910-b5c5-67a3bf981146",
   "metadata": {},
   "source": [
    "### Reason 2: incorrect whitespace inputs. "
   ]
  },
  {
   "cell_type": "code",
   "execution_count": 857,
   "id": "e118234b-bf27-4974-96cd-a750dace6fd2",
   "metadata": {},
   "outputs": [
    {
     "data": {
      "text/plain": [
       "220    Menchie's  Frozen Yogurt\n",
       "550     Menchie's Frozen Yogurt\n",
       "Name: name, dtype: object"
      ]
     },
     "execution_count": 857,
     "metadata": {},
     "output_type": "execute_result"
    }
   ],
   "source": [
    "boba['name'].iloc[234:236]"
   ]
  },
  {
   "cell_type": "code",
   "execution_count": 859,
   "id": "72e0d500-b53b-4354-988d-5689fc94d452",
   "metadata": {},
   "outputs": [],
   "source": [
    "boba['name'] = boba['name'].str.replace('  ', ' ')"
   ]
  },
  {
   "cell_type": "markdown",
   "id": "1acd218d-e8db-409f-985a-45894864d5b7",
   "metadata": {},
   "source": [
    "### Going forward I will copy in an example in this markdown section, instead of illustrating with the dataframe, for brevity. Since the remaining reasons don't share an algorithimic cleaning process.\n",
    "### Reason 3: Brand Casing Variance\n",
    "ICICLES\n",
    "\n",
    "Icicles\n",
    "### Reason 4: Brand Punctuation\n",
    "Mr Green Bubble\n",
    "\n",
    "Mr. Green Bubble\n",
    "### Remaing Reasons: An assorted group of the same brand, but the name has addition information appended. This could be location without hyphenation, a joint restaurant venture, or a new location with a numerical increment.\n",
    "T4\n",
    "\n",
    "T4 Cupertino\n",
    "\n",
    "Vampire Penguin\n",
    "\n",
    "Vampire Penguin featuring Jastea\n",
    "\n",
    "World Wrapps\n",
    "\n",
    "World Wrapps 2\n",
    "### Unfortunately, this data just needs to be manually addressed. Fortunately the dataset is of a manageable size."
   ]
  },
  {
   "cell_type": "code",
   "execution_count": 862,
   "id": "b12bb74a-87d7-4cfb-9217-159f556763b0",
   "metadata": {},
   "outputs": [],
   "source": [
    "#Normal Replacements\n",
    "regexList = ['Happy Lemon', 'Quickly', 'STEEP', 'Sharetea', 'T4', 'Ten Ren Tea', 'Vampire Penguin', 'World Wrapps', 'Blackball Desserts']\n",
    "replaceList = regexList[:]\n",
    "\n",
    "#Special Cases\n",
    "regexList += ['Icicles', 'Green Bubble']\n",
    "replaceList += ['ICICLES', 'Mr. Green Bubble']\n",
    "\n",
    "for regex, replacement in zip(regexList, replaceList):\n",
    "    boba.loc[boba['name'].str.contains(regex), 'name'] = replacement"
   ]
  },
  {
   "cell_type": "code",
   "execution_count": 864,
   "id": "72f77d94-24d4-4617-96ef-c12196e6b967",
   "metadata": {},
   "outputs": [],
   "source": [
    "boba = boba.sort_values(by=['name'])\n",
    "\n",
    "#Adding year to differentiate after I concatenate in Tableau\n",
    "boba['year'] = 2018"
   ]
  },
  {
   "cell_type": "code",
   "execution_count": 871,
   "id": "584ac2a6-e53d-49a9-aabc-48205262738a",
   "metadata": {},
   "outputs": [],
   "source": [
    "if os.path.exists(r'E:\\AnalystBuilderTestFolder\\BayBoba\\2018_Cleaned_BayBoba.csv'):\n",
    "    boba.to_csv(r'E:\\AnalystBuilderTestFolder\\BayBoba\\2018_Cleaned_BayBoba.csv', header = True)\n",
    "else:\n",
    "    boba.to_csv(r'E:\\AnalystBuilderTestFolder\\BayBoba\\2018_Cleaned_BayBoba.csv')"
   ]
  },
  {
   "cell_type": "markdown",
   "id": "86e5f4fa-9441-437a-b2da-423c7db29765",
   "metadata": {},
   "source": [
    "### The 2018 data is clean, time to export and repeat the process for 2024."
   ]
  },
  {
   "cell_type": "code",
   "execution_count": 873,
   "id": "30d05409-2819-4d58-a36b-9e3e9e2dde79",
   "metadata": {},
   "outputs": [],
   "source": [
    "boba2 = pd.read_csv(r'E:\\AnalystBuilderTestFolder\\BayBoba\\updated_bayarea_boba_spots_2024.csv')\n",
    "#Dropping Index and Id again.\n",
    "boba2 = boba2.drop(boba2.columns[[0, 1]], axis=1)\n",
    "boba2 = boba2.sort_values(by=['name'])\n",
    "\n",
    "#boba2.info()"
   ]
  },
  {
   "cell_type": "code",
   "execution_count": 875,
   "id": "9619ad49-2033-4910-88bc-2e03b51cd2a4",
   "metadata": {},
   "outputs": [],
   "source": [
    "boba2['name'] = boba2['name'].str.replace('  ', ' ')\n",
    "boba2['name'] = boba2['name'].str.split(pat=' - ', n=1, expand=True)[0]"
   ]
  },
  {
   "cell_type": "code",
   "execution_count": 877,
   "id": "a3037b60-e985-4e74-ba8e-ead889eb7f15",
   "metadata": {},
   "outputs": [],
   "source": [
    "#Addressing the one outlier, where the ' - ' was not a '[Name] - [Location]' combo, but rather the actual brand name.\n",
    "#Note that B&B Boba and Banh Mi is a separate entity from b&b Bahn Mi and Boba.\n",
    "boba2.loc[boba2['name'].str.contains('b&b'), 'name'] = 'b&b - Banh Mi & Boba'"
   ]
  },
  {
   "cell_type": "code",
   "execution_count": 879,
   "id": "5bebaf37-e757-46d5-b1e6-7b6ff50094d7",
   "metadata": {},
   "outputs": [
    {
     "name": "stderr",
     "output_type": "stream",
     "text": [
      "C:\\Users\\wush1\\AppData\\Local\\Temp\\ipykernel_19604\\1626555646.py:16: UserWarning: This pattern is interpreted as a regular expression, and has match groups. To actually get the groups, use str.extract.\n",
      "  boba2.loc[boba2['name'].str.contains(regex), 'name'] = replacement\n"
     ]
    }
   ],
   "source": [
    "#Normal Replacements\n",
    "regexList = ['Happy Lemon', 'Quickly', 'STEEP', 'Sharetea', 'T4', 'Tea&Poke', 'TenZenTea', 'Sunright Tea Studio', 'Teaspoon', 'Rabbit Rabbit']\n",
    "regexList += ['Mochinut', 'MandRo Teahouse', 'Mr Sun', 'Lilikoi', 'Feng Cha', 'CoCo', 'BAMBU', 'Boba Guys', 'Bober Tea']\n",
    "              \n",
    "replaceList = regexList[:]\n",
    "\n",
    "#Special Cases\n",
    "regexList += ['Icicles', 'Green Bubble', 'Rare', 'Quali[T|t]ea', 'ZERO *&', 'Taiwan Fruit', 'Ten *(Ren|ren)', 'Gong', 'Devil', 'Big.Bang']\n",
    "replaceList += ['ICICLES', 'Mr. Green Bubble', 'RareTea', 'QualiTea', 'ZERO&', 'Yi Fang Taiwan Fruit', 'Ten Ren Tea', 'Gong Cha', 'Devil & Angel Desserts']\n",
    "replaceList += ['Big Bang Boba & Chicken']\n",
    "\n",
    "#This specific store seems to be unaffiliated with T4, the Taiwanese brand. \n",
    "boba2.loc[boba2['name'].str.contains('T4 a cup of tea'), 'name'] = 'knockoff'\n",
    "\n",
    "for regex, replacement in zip(regexList, replaceList):\n",
    "    boba2.loc[boba2['name'].str.contains(regex), 'name'] = replacement\n",
    "\n",
    "boba2.loc[boba2['name'].str.contains('knockoff'), 'name'] = 'T4 a cup of tea'"
   ]
  },
  {
   "cell_type": "code",
   "execution_count": 881,
   "id": "7876d6fc-ca2f-46ac-9ffc-27092ffd9816",
   "metadata": {},
   "outputs": [],
   "source": [
    "boba2 = boba2.sort_values(by=['name'])\n",
    "boba2['year'] = 2024"
   ]
  },
  {
   "cell_type": "code",
   "execution_count": 883,
   "id": "51330bdf-2d48-4477-971c-95df43412625",
   "metadata": {},
   "outputs": [],
   "source": [
    "if os.path.exists(r'E:\\AnalystBuilderTestFolder\\BayBoba\\2024_Cleaned_BayBoba.csv'):\n",
    "    boba2.to_csv(r'E:\\AnalystBuilderTestFolder\\BayBoba\\2024_Cleaned_BayBoba.csv', header = True)\n",
    "else:\n",
    "    boba2.to_csv(r'E:\\AnalystBuilderTestFolder\\BayBoba\\2024_Cleaned_BayBoba.csv')"
   ]
  }
 ],
 "metadata": {
  "kernelspec": {
   "display_name": "Python [conda env:base] *",
   "language": "python",
   "name": "conda-base-py"
  },
  "language_info": {
   "codemirror_mode": {
    "name": "ipython",
    "version": 3
   },
   "file_extension": ".py",
   "mimetype": "text/x-python",
   "name": "python",
   "nbconvert_exporter": "python",
   "pygments_lexer": "ipython3",
   "version": "3.12.7"
  }
 },
 "nbformat": 4,
 "nbformat_minor": 5
}
